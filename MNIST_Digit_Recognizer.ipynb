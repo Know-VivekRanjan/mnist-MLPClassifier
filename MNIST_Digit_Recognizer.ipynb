{
 "cells": [
  {
   "cell_type": "markdown",
   "metadata": {},
   "source": [
    "# MNIST_DIGIT_RECOGNIZER"
   ]
  },
  {
   "cell_type": "code",
   "execution_count": 1,
   "metadata": {},
   "outputs": [],
   "source": [
    "#Importing the required library..##\n",
    "from PIL import Image\n",
    "import mnist\n",
    "import numpy as np\n",
    "from sklearn.neural_network import MLPClassifier\n",
    "from sklearn.metrics import confusion_matrix"
   ]
  },
  {
   "cell_type": "code",
   "execution_count": 2,
   "metadata": {},
   "outputs": [],
   "source": [
    "#Training Set\n",
    "x_train = mnist.train_images()\n",
    "y_train = mnist.train_labels()\n",
    "\n",
    "#Testing Set\n",
    "x_test = mnist.test_images()\n",
    "y_test = mnist.test_labels()"
   ]
  },
  {
   "cell_type": "code",
   "execution_count": 3,
   "metadata": {},
   "outputs": [
    {
     "name": "stdout",
     "output_type": "stream",
     "text": [
      "training shape (60000, 28, 28)\n",
      "testing shape (10000, 28, 28)\n"
     ]
    }
   ],
   "source": [
    "#Checking the shape of training and testing data\n",
    "print('training shape', x_train.shape)\n",
    "print('testing shape', x_test.shape)"
   ]
  },
  {
   "cell_type": "code",
   "execution_count": 4,
   "metadata": {},
   "outputs": [],
   "source": [
    "#changing the shape of training and testing datasets for Neural Networks\n",
    "x_train = x_train.reshape((-1, 28*28))\n",
    "x_test = x_test.reshape(-1, 28*28)"
   ]
  },
  {
   "cell_type": "code",
   "execution_count": 5,
   "metadata": {},
   "outputs": [],
   "source": [
    "#Now limiting the value of arrays between 0 to 1\n",
    "x_train = (x_train/256)\n",
    "x_test = (x_test/256)"
   ]
  },
  {
   "cell_type": "code",
   "execution_count": 6,
   "metadata": {},
   "outputs": [
    {
     "data": {
      "text/plain": [
       "MLPClassifier(hidden_layer_sizes=(64, 64))"
      ]
     },
     "execution_count": 6,
     "metadata": {},
     "output_type": "execute_result"
    }
   ],
   "source": [
    "model = MLPClassifier(solver = 'adam', activation = 'relu', hidden_layer_sizes =(64, 64) )\n",
    "\n",
    "model.fit(x_train, y_train)"
   ]
  },
  {
   "cell_type": "code",
   "execution_count": 7,
   "metadata": {},
   "outputs": [],
   "source": [
    "#Predicting the value of the model on the test data\n",
    "predictions = model.predict(x_test)"
   ]
  },
  {
   "cell_type": "code",
   "execution_count": 8,
   "metadata": {},
   "outputs": [],
   "source": [
    "#finding the accuracy of the given model\n",
    "accuracy = confusion_matrix(y_test, predictions)"
   ]
  },
  {
   "cell_type": "code",
   "execution_count": 9,
   "metadata": {},
   "outputs": [
    {
     "name": "stdout",
     "output_type": "stream",
     "text": [
      "[[ 971    1    1    0    0    0    2    1    3    1]\n",
      " [   0 1126    3    1    0    1    0    1    3    0]\n",
      " [   2    1 1013    4    1    2    0    4    5    0]\n",
      " [   0    0    5  989    0    1    0    3    3    9]\n",
      " [   2    0    1    1  957    0    6    2    1   12]\n",
      " [   3    1    0    8    1  869    3    1    5    1]\n",
      " [   3    4    4    1    4    8  933    0    1    0]\n",
      " [   2    1   10    2    1    0    0 1003    3    6]\n",
      " [   7    0    3    4    2    3    1    4  946    4]\n",
      " [   3    2    1    4    6    4    0    5    2  982]]\n"
     ]
    }
   ],
   "source": [
    "print(accuracy)"
   ]
  },
  {
   "cell_type": "code",
   "execution_count": 10,
   "metadata": {},
   "outputs": [],
   "source": [
    "#defining the fuction such that to find the sum of diagonals upon the other elements\n",
    "def result(cm):\n",
    "    diagonal = cm.trace()\n",
    "    elements = cm.sum()\n",
    "    return diagonal / elements"
   ]
  },
  {
   "cell_type": "code",
   "execution_count": 11,
   "metadata": {},
   "outputs": [
    {
     "name": "stdout",
     "output_type": "stream",
     "text": [
      "Accuracy of the model is:  0.9789\n"
     ]
    }
   ],
   "source": [
    "print(\"Accuracy of the model is: \", result(accuracy))"
   ]
  },
  {
   "cell_type": "code",
   "execution_count": 12,
   "metadata": {},
   "outputs": [],
   "source": [
    "#converting the RGB pictures to gray scale in the form of list\n",
    "import cv2\n",
    "\n",
    "image = cv2.imread('five_s.png')\n",
    "gray_image = cv2.cvtColor(image, cv2.COLOR_BGR2GRAY)\n",
    "gray_image = gray_image.reshape(-1, 28*28)\n",
    "gray_image_l = gray_image[0].tolist()\n"
   ]
  },
  {
   "cell_type": "code",
   "execution_count": 13,
   "metadata": {},
   "outputs": [
    {
     "name": "stdout",
     "output_type": "stream",
     "text": [
      "\n"
     ]
    }
   ],
   "source": [
    "#Changing the mode of picture according to the model\n",
    "data = gray_image_l\n",
    "for i in range(len(data)):\n",
    "    data[i] = 255 - data[i]\n",
    "print()\n"
   ]
  },
  {
   "cell_type": "code",
   "execution_count": 14,
   "metadata": {},
   "outputs": [],
   "source": [
    "#Limiting the model between 0 and 1\n",
    "r_data =np.array(data)/256"
   ]
  },
  {
   "cell_type": "code",
   "execution_count": 15,
   "metadata": {},
   "outputs": [],
   "source": [
    "#Finding the prediction on the real data\n",
    "answer = model.predict([r_data])"
   ]
  },
  {
   "cell_type": "code",
   "execution_count": 17,
   "metadata": {},
   "outputs": [
    {
     "name": "stdout",
     "output_type": "stream",
     "text": [
      "The Prediction of the given model is:  5\n"
     ]
    }
   ],
   "source": [
    "print(\"The Prediction of the given model is: \", answer[0])"
   ]
  },
  {
   "cell_type": "code",
   "execution_count": null,
   "metadata": {},
   "outputs": [],
   "source": []
  }
 ],
 "metadata": {
  "kernelspec": {
   "display_name": "Python 3",
   "language": "python",
   "name": "python3"
  },
  "language_info": {
   "codemirror_mode": {
    "name": "ipython",
    "version": 3
   },
   "file_extension": ".py",
   "mimetype": "text/x-python",
   "name": "python",
   "nbconvert_exporter": "python",
   "pygments_lexer": "ipython3",
   "version": "3.8.3"
  }
 },
 "nbformat": 4,
 "nbformat_minor": 4
}
